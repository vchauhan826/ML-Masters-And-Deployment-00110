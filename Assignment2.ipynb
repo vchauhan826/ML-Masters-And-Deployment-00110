{
 "cells": [
  {
   "cell_type": "markdown",
   "metadata": {},
   "source": [
    "### 1 - Write a Python Program to implement your own myreduce() function which works exactly like Python's built-in function reduce()"
   ]
  },
  {
   "cell_type": "code",
   "execution_count": 1,
   "metadata": {},
   "outputs": [
    {
     "name": "stdout",
     "output_type": "stream",
     "text": [
      "Sum on list [5,6,3] using custom reduce function 14\n"
     ]
    }
   ],
   "source": [
    "def myReduce(func, seq):\n",
    "\n",
    "    # Get first item in sequence and assign to result\n",
    "    rslt = seq[0]\n",
    "    # iterate over remaining items in sequence and apply reduction function \n",
    "    for item in seq[1:]:\n",
    "        rslt = func(rslt, item)\n",
    "    return rslt\n",
    "\n",
    "# test myreduce function\n",
    "def add(x,y): \n",
    "    add = x+y\n",
    "    return add\n",
    "\n",
    "print (\"Sum on list [5,6,3] using custom reduce function \"   + str(myReduce(add, [5,6,3])) )\n"
   ]
  },
  {
   "cell_type": "markdown",
   "metadata": {},
   "source": [
    "### 2 - Write a Python program to implement your own myfilter() function which works exactly like Python's built-in function filter()\n"
   ]
  },
  {
   "cell_type": "code",
   "execution_count": 2,
   "metadata": {},
   "outputs": [
    {
     "name": "stdout",
     "output_type": "stream",
     "text": [
      "Filter only positive Integers on list [0,3,-5,6,4,-2] using custom filter function[3, 6, 4]\n"
     ]
    }
   ],
   "source": [
    "def myFilter(func, seq):\n",
    "\n",
    "    # Initialize empty list\n",
    "    rslt = []\n",
    "    # iterate over sequence of items in sequence and apply filter function\n",
    "    for item in seq:\n",
    "        if func(item):\n",
    "            rslt.append(item)\n",
    "    # return final output\n",
    "    return rslt\n",
    "\n",
    "# test myfilter function\n",
    "def isPos(x):\n",
    " if (x <= 0): \n",
    "  return False \n",
    " else: \n",
    "  return True\n",
    "\n",
    "print (\"Filter only positive Integers on list [0,3,-5,6,4,-2] using custom filter function\"  + str(myFilter(isPos, [0,3,-5,6,4,-2])))"
   ]
  },
  {
   "cell_type": "markdown",
   "metadata": {},
   "source": [
    "### 3 - Implement List comprehensions to produce the following lists"
   ]
  },
  {
   "cell_type": "code",
   "execution_count": 11,
   "metadata": {},
   "outputs": [
    {
     "name": "stdout",
     "output_type": "stream",
     "text": [
      "ACADGILD => ['A', 'C', 'A', 'D', 'G', 'I', 'L', 'D']\n",
      "['x','y','z'] => ['x', 'xx', 'xxx', 'xxxx', 'y', 'yy', 'yyy', 'yyyy', 'z', 'zz', 'zzz', 'zzzz']\n",
      "['x','y','z'] => ['x', 'y', 'z', 'xx', 'yy', 'zz', 'xxx', 'yyy', 'zzz', 'xxxx', 'yyyy', 'zzzz']\n",
      "[2,3,4] =>[[2], [3], [4], [3], [4], [5], [4], [5], [6]]\n",
      "[2,3,4,5] =>[[2, 3, 4, 5], [3, 4, 5, 6], [4, 5, 6, 7], [5, 6, 7, 8]]\n",
      "[1,2,3] =>[(1, 1), (2, 1), (3, 1), (1, 2), (2, 2), (3, 2), (1, 3), (2, 3), (3, 3)]\n"
     ]
    }
   ],
   "source": [
    "\"\"\"\n",
    "Implement List comprehensions to produce the following lists.\n",
    "Write List comprehensions to produce the following Lists\n",
    "['A', 'C', 'A', 'D', 'G', 'I', ’L’, ‘ D’]\n",
    "['x', 'xx', 'xxx', 'xxxx', 'y', 'yy', 'yyy', 'yyyy', 'z', 'zz', 'zzz', 'zzzz']\n",
    "['x', 'y', 'z', 'xx', 'yy', 'zz', 'xxx', 'yyy', 'zzz', 'xxxx', 'yyyy', 'zzzz']\n",
    "[[2], [3], [4], [3], [4], [5], [4], [5], [6]]\n",
    "[[2, 3, 4, 5], [3, 4, 5, 6], [4, 5, 6, 7], [5, 6, 7, 8]]\n",
    "[(1, 1), (2, 1), (3, 1), (1, 2), (2, 2), (3, 2), (1, 3), (2, 3), (3, 3)]\n",
    "\"\"\"\n",
    "#########\n",
    "word = \"ACADGILD\"\n",
    "alphabet_list = [ alphabet for alphabet in word ]\n",
    "print (\"ACADGILD => \" + str(alphabet_list))\n",
    "\n",
    "#########\n",
    "input_list = ['x','y','z']\n",
    "result = [ item*num for item in input_list for num in range(1,5)  ]\n",
    "print(\"['x','y','z'] => \" +   str(result))\n",
    "\n",
    "#########\n",
    "input_list = ['x','y','z']\n",
    "result = [ item*num for num in range(1,5) for item in input_list  ]\n",
    "print(\"['x','y','z'] => \" +   str(result))\n",
    "\n",
    "#########\n",
    "input_list = [2,3,4]\n",
    "result = [ [item+num] for item in input_list for num in range(0,3)]\n",
    "print(\"[2,3,4] =>\" +  str(result))\n",
    "\n",
    "#########\n",
    "input_list = [2,3,4,5]\n",
    "result = [ [item+num for item in input_list] for num in range(0,4)  ]\n",
    "print(\"[2,3,4,5] =>\" +  str(result))\n",
    "\n",
    "#########\n",
    "input_list=[1,2,3]\n",
    "result = [ (b,a) for a in input_list for b in input_list]\n",
    "print(\"[1,2,3] =>\" +  str(result))\n",
    "\n",
    "#########"
   ]
  },
  {
   "cell_type": "markdown",
   "metadata": {},
   "source": [
    "### 4 - Implement a function longestWord() that takes a list of words and returns the longest one."
   ]
  },
  {
   "cell_type": "code",
   "execution_count": 13,
   "metadata": {},
   "outputs": [
    {
     "name": "stdout",
     "output_type": "stream",
     "text": [
      "before sort :  [(4, 'YOGA'), (3, 'GYM'), (6, 'CODING')]\n",
      "after sort :  [(3, 'GYM'), (4, 'YOGA'), (6, 'CODING')]\n",
      "CODING\n"
     ]
    }
   ],
   "source": [
    "def getLongestWord(wordList):\n",
    "    word_len = []\n",
    "    for n in wordList:\n",
    "        word_len.append((len(n), n))\n",
    "    print(\"before sort : \",word_len)\n",
    "    word_len.sort()\n",
    "    print(\"after sort : \",word_len)\n",
    "    return word_len[-1][1]\n",
    "\n",
    "print(getLongestWord([\"YOGA\", \"GYM\", \"CODING\"]))"
   ]
  },
  {
   "cell_type": "markdown",
   "metadata": {},
   "source": [
    "### 5- Write a function filter_long_words() that takes a list of words and an integer n and returns the list of words that are longer than n.\n"
   ]
  },
  {
   "cell_type": "code",
   "execution_count": 24,
   "metadata": {},
   "outputs": [
    {
     "name": "stdout",
     "output_type": "stream",
     "text": [
      "['abcde', 'zxcw']\n"
     ]
    }
   ],
   "source": [
    "def filter_long_words(listOfWords, n):\n",
    "    listwords = []\n",
    "    for word in listOfWords:\n",
    "        if len(word) > n:\n",
    "            listwords.append(word)\n",
    "    return listwords\n",
    "print(filter_long_words(['a', 'avg', 'abcde', 'zxcw', 'b'], 3))"
   ]
  },
  {
   "cell_type": "markdown",
   "metadata": {},
   "source": [
    "### 6 - Write a Python program using function concept that maps list of words into a list of integers representing the lengths of the corresponding words"
   ]
  },
  {
   "cell_type": "code",
   "execution_count": 28,
   "metadata": {},
   "outputs": [
    {
     "name": "stdout",
     "output_type": "stream",
     "text": [
      "[2, 3, 4]\n"
     ]
    }
   ],
   "source": [
    "def list_of_words_to_list_of_integers(words):\n",
    "    lengths = []\n",
    "    for word in words:\n",
    "        lengths.append(len(word))\n",
    "    return lengths\n",
    "\n",
    "words = [ 'ab','cde','erty'] \n",
    "print (list_of_words_to_list_of_integers(words))"
   ]
  },
  {
   "cell_type": "markdown",
   "metadata": {},
   "source": [
    "### 7 - Write a Python function which takes a character (i.e. a string of length 1) and returns True if it is a vowel, False otherwise."
   ]
  },
  {
   "cell_type": "code",
   "execution_count": 14,
   "metadata": {},
   "outputs": [
    {
     "name": "stdout",
     "output_type": "stream",
     "text": [
      "False\n",
      "True\n",
      "False\n"
     ]
    }
   ],
   "source": [
    "def checkIsVowel(c):\n",
    "    vowels = ('a', 'e', 'i', 'o', 'u')\n",
    "    if c not in vowels:\n",
    "        return False\n",
    "    return True\n",
    "\n",
    "print(checkIsVowel(5))\n",
    "print(checkIsVowel('e'))\n",
    "print(checkIsVowel('f'))"
   ]
  },
  {
   "cell_type": "markdown",
   "metadata": {},
   "source": [
    "### 8- Write a Python Program(with class concepts) to find the area of the triangle using the below formula. \n",
    " \n",
    "area = (s*(s-a)*(s-b)*(s-c)) ** 0.5 \n",
    " \n",
    "Function to take the length of the sides of triangle from user should be defined in the parent class and function to calculate the area should be defined in subclass. "
   ]
  },
  {
   "cell_type": "code",
   "execution_count": 28,
   "metadata": {},
   "outputs": [
    {
     "name": "stdout",
     "output_type": "stream",
     "text": [
      "sides :  2 3 4\n",
      "s :  4.5\n",
      "Area of a traingle is 2.904738\n"
     ]
    }
   ],
   "source": [
    "class Parent:\n",
    "\n",
    "    def __init__(self,a,b,c):\n",
    "        self.a = a\n",
    "        self.b = b\n",
    "        self.c = c\n",
    "        \n",
    "    def getSides(self):\n",
    "        return [self.a,self.b,self.c]\n",
    "        \n",
    "class Child(Parent):\n",
    "\n",
    "    def __init__(self, *args):\n",
    "        super(Child, self).__init__(*args)\n",
    "\n",
    "    def getArea(self,a,b,c): \n",
    "        print(\"sides : \",a,b,c)\n",
    "        s=(a + b + c)/2\n",
    "        print(\"s : \",s)\n",
    "        area = (s*((s-a)*(s-b)*(s-c)))** 0.5\n",
    "        print('Area of a traingle is %f' %area)  \n",
    "   \n",
    "getTriangleArea = Child(2,3,4)\n",
    "sides = getTriangleArea.getSides()\n",
    "getTriangleArea.getArea(sides[0],sides[1],sides[2])"
   ]
  }
 ],
 "metadata": {
  "kernelspec": {
   "display_name": "Python 3",
   "language": "python",
   "name": "python3"
  },
  "language_info": {
   "codemirror_mode": {
    "name": "ipython",
    "version": 3
   },
   "file_extension": ".py",
   "mimetype": "text/x-python",
   "name": "python",
   "nbconvert_exporter": "python",
   "pygments_lexer": "ipython3",
   "version": "3.7.4"
  }
 },
 "nbformat": 4,
 "nbformat_minor": 2
}
