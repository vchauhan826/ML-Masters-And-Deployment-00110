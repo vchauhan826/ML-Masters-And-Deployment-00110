{
 "cells": [
  {
   "cell_type": "markdown",
   "metadata": {},
   "source": [
    "### Q1. How can we create an iterator object from a list? \n",
    "\n",
    ">sol - Bypassing the given list to the iter() function"
   ]
  },
  {
   "cell_type": "code",
   "execution_count": 7,
   "metadata": {},
   "outputs": [
    {
     "data": {
      "text/plain": [
       "57"
      ]
     },
     "execution_count": 7,
     "metadata": {},
     "output_type": "execute_result"
    }
   ],
   "source": [
    "n = [6, 57, 4, 7, 68, 95]\n",
    "n_iter = iter(n)\n",
    "next(n_iter)\n",
    "next(n_iter)"
   ]
  },
  {
   "cell_type": "markdown",
   "metadata": {},
   "source": [
    "### Q2. If the function contains at least of one “yield” statement, then it   becomes ______\n",
    ">sol -  a generator function"
   ]
  },
  {
   "cell_type": "markdown",
   "metadata": {},
   "source": [
    "### Q3. What is the output of the code?\n",
    "\n",
    "mylist =  [1, 3, 6, 10]\n",
    "\n",
    "a = (x**2 for x in mylist) \n",
    "\n",
    "print(next(a), next(a)) \n",
    "\n",
    ">sol - 1,9"
   ]
  },
  {
   "cell_type": "markdown",
   "metadata": {},
   "source": [
    "### Q4. What are the criteria that must be met to create closure in Python? \n",
    "\n",
    ">sol - All of the above."
   ]
  },
  {
   "cell_type": "markdown",
   "metadata": {},
   "source": [
    "### Q5. What is the output of the code? \n",
    " \n",
    "def Foo(n):\n",
    "    def multiplier(x): \n",
    "        return x * n \n",
    "    return multiplier \n",
    "a = Foo(5) \n",
    "b = Foo(5) \n",
    "print(a(b(2))\n",
    "\n",
    ">sol - 50"
   ]
  },
  {
   "cell_type": "markdown",
   "metadata": {},
   "source": [
    "### Q6. What is the output of the code? \n",
    " \n",
    "1. def make_pretty(func):\n",
    "2.     def inner():\n",
    "3.         print(\"I got decorated\") \n",
    "4.         func() \n",
    "5.     return inner\n",
    "6.\n",
    "7. def ordinary(): 8.\n",
    "print(\"I am ordinary\") \n",
    "9.\n",
    "10. pretty = make_pretty(ordinary)\n",
    "11. pretty() \n",
    "\n",
    "> sol - I got decorated\n",
    "\n",
    "         I am ordinary"
   ]
  },
  {
   "cell_type": "markdown",
   "metadata": {},
   "source": [
    "### Q7: What is the more pythonic way to use getters and setters? \n",
    "\n",
    ">sol - @property "
   ]
  },
  {
   "cell_type": "markdown",
   "metadata": {},
   "source": [
    "### Q8. In Python, there is a built-in function property() that returns a property object. The property object has which of the methods?\n",
    "\n",
    ">sol - getter(), setter() and delete()"
   ]
  },
  {
   "cell_type": "markdown",
   "metadata": {},
   "source": [
    "### Q9. Which of the following statement is true?\n",
    "\n",
    ">sol - The @ symbol doesn’t have any use while using decorators. "
   ]
  },
  {
   "cell_type": "markdown",
   "metadata": {},
   "source": [
    "### Q10. For the following codes, which of the following statements is true?\n",
    "\n",
    ">sol - Print Hello() is a function, and a is a variable. None of them are objects."
   ]
  },
  {
   "cell_type": "markdown",
   "metadata": {},
   "source": [
    "### Q11. What is the output of the program?\n",
    "1. def outerFunction(): 2.     global a 3.     a = 20 4.     def innerFunction(): 5.         global a 6.         a = 30 7.         print('a =', a)   8. a = 10 9. outerFunction() 10. print('a =', a) \n",
    "\n",
    ">sol - 20"
   ]
  },
  {
   "cell_type": "markdown",
   "metadata": {},
   "source": [
    "### Q12. Which of the following statements is true?\n",
    "\n",
    ">sol - Neither statement is true"
   ]
  },
  {
   "cell_type": "markdown",
   "metadata": {},
   "source": [
    "### Q13. What is the output of the code? \n",
    " \n",
    "1. class Foo: 2.   def printLine(self, line='Python'): 3.     print(line) 4.    5. o1 = Foo() 6. o1.printLine('Java')\n",
    "\n",
    ">sol - java"
   ]
  },
  {
   "cell_type": "markdown",
   "metadata": {},
   "source": [
    "### Q14. What is the function of the __init__() function in Python? \n",
    "\n",
    ">sol - This function is called, when the new object is instantiated "
   ]
  },
  {
   "cell_type": "markdown",
   "metadata": {},
   "source": [
    "### Q15. What is the output of the code? \n",
    " \n",
    "1. class Point: 2.     def __init__(self, x = 0, y = 0): 3.       self.x = x+1 4.       self.y = y+1 5.        6. p1 = Point() 7. print(p1.x, p1.y) \n",
    "\n",
    ">sol - 1 1"
   ]
  },
  {
   "cell_type": "markdown",
   "metadata": {},
   "source": [
    "### Q16. Which of the following code used the inheritance feature?\n",
    "\n",
    ">sol - option c"
   ]
  },
  {
   "cell_type": "markdown",
   "metadata": {},
   "source": [
    "### Q17 If you a class is derived from two different classes, it’s called ______ \n",
    "\n",
    ">sol - Hierarchical Inheritance"
   ]
  },
  {
   "cell_type": "markdown",
   "metadata": {},
   "source": [
    "### Q18. Which of the following statements is true?\n",
    "\n",
    "sol - option  d) All of the above."
   ]
  },
  {
   "cell_type": "markdown",
   "metadata": {},
   "source": [
    "### Q19. What is the output of the code? \n",
    "1. class Point: 2.    3.     def __init__(self, x = 0, y = 0): 4.       self.x = x 5.       self.y = y 6.    7.     def __sub__(self, other): 8.         x = self.x + other.x 9.         y = self.y + other.y 10.         return Point(x,y) 11.          12. p1 = Point(3, 4) 13. p2 = Point(1, 2) 14. result = p1-p2 15. print(result.x, result.y)\n",
    "\n",
    ">sol - 4 6"
   ]
  },
  {
   "cell_type": "markdown",
   "metadata": {},
   "source": [
    "### Q20. Opening a file in ‘a’ mode \n",
    "\n",
    ">sol - opens the file for appending, at the end of file "
   ]
  },
  {
   "cell_type": "markdown",
   "metadata": {},
   "source": [
    "### Q21. What does the following code do?     \n",
    "f = open(\"test.txt\")\n",
    "\n",
    ">sol - Opens test.txt file for reading only"
   ]
  },
  {
   "cell_type": "markdown",
   "metadata": {},
   "source": [
    "### Q22. Which of the codes closes files automatically if an exception  occurs? \n",
    "\n",
    ">sol - option d) Both of the above "
   ]
  },
  {
   "cell_type": "markdown",
   "metadata": {},
   "source": [
    "### Q23. For the following code, \n",
    "1. f = open('test.txt', 'r', encoding = 'utf-8') 2. f.read()\n",
    "Which of the following statement is true \n",
    "\n",
    ">sol - This program reads the content of the test.txt file. "
   ]
  },
  {
   "cell_type": "markdown",
   "metadata": {},
   "source": [
    "### Q24. What does the following code do? \n",
    "os.listdir() \n",
    "\n",
    ">sol - Prints the current working directory."
   ]
  },
  {
   "cell_type": "markdown",
   "metadata": {},
   "source": [
    "### Q25. Which of the following is correct? \n",
    "\n",
    ">sol - option d) All of the above."
   ]
  },
  {
   "cell_type": "markdown",
   "metadata": {},
   "source": [
    "### Q26. What will happen if we try to open the file that doesn’t exist?\n",
    "\n",
    ">sol - An exception is raised. "
   ]
  },
  {
   "cell_type": "markdown",
   "metadata": {},
   "source": [
    "### Q27. What is the output of the code?\n",
    "\n",
    "number = 5.0 2. try: 3.     r = 10/number 4.     print(r) 5. except: 6.     print(\"Oops! Error occurred.\") \n",
    "\n",
    ">sol - 2.0"
   ]
  },
  {
   "cell_type": "markdown",
   "metadata": {},
   "source": [
    "### Q28. What does the following code do? \n",
    " try: 2.   # code that can raise an error 3.    pass 4.    5. except (TypeError, ZeroDivisionError): 6.   print(\"Two\") \n",
    " \n",
    ">sol - Prints Two if the TypeError or ZeroDivisionError exception occurs."
   ]
  },
  {
   "cell_type": "markdown",
   "metadata": {},
   "source": [
    "### Q29. Which of the following statement is true?\n",
    "\n",
    ">sol - option d "
   ]
  },
  {
   "cell_type": "markdown",
   "metadata": {},
   "source": [
    "### Q30. Which of the following statement is true?\n",
    "\n",
    ">sol - The function is a piece of code that can perform a specific task. "
   ]
  },
  {
   "cell_type": "markdown",
   "metadata": {},
   "source": [
    "### Q31. What is the output of the code? \n",
    "1. def printLine(text): 2.   print(text, 'is awesome.') 3.  4. printLine('Python') \n",
    "\n",
    ">sol - Python is awesome."
   ]
  },
  {
   "cell_type": "markdown",
   "metadata": {},
   "source": [
    "### Q32. If the return statement is not used inside the function, the function will return: \n",
    "\n",
    ">sol -None object "
   ]
  },
  {
   "cell_type": "markdown",
   "metadata": {},
   "source": [
    "### Q33. What is the output of the code? \n",
    " \n",
    "1. def greetPerson(*name): 2.   print('Hello', name) 3.  4. greetPerson('Frodo', 'Sauron') \n",
    "\n",
    ">sol - Hello ('Frodo', 'Sauron') "
   ]
  },
  {
   "cell_type": "markdown",
   "metadata": {},
   "source": [
    "### Q34. What is a recursive function?\n",
    "\n",
    ">sol - A function that calls itself. "
   ]
  },
  {
   "cell_type": "markdown",
   "metadata": {},
   "source": [
    "### Q35. What is the output of the program? \n",
    " \n",
    "1. result = lambda x: x * x 2. print(result(5))\n",
    "\n",
    ">sol - 25"
   ]
  },
  {
   "cell_type": "markdown",
   "metadata": {},
   "source": [
    "### Q36. What is the output of the program? \n",
    " \n",
    "1. def Foo(x): 2.   if (x==1): 3.     return 1 4.   else: 5.     return x+Foo(x-1) 6.  7. print(Foo(4))\n",
    "\n",
    ">sol - 10"
   ]
  },
  {
   "cell_type": "markdown",
   "metadata": {},
   "source": [
    "### Q37. Suppose you need to print pi constant defined in the math module. Which of the following code can do this task? \n",
    "\n",
    ">sol - from math import pi\n",
    "      print(pi)"
   ]
  },
  {
   "cell_type": "markdown",
   "metadata": {},
   "source": [
    "### Q38. Which operator is used in Python to import modules from the packages?\n",
    "\n",
    ">sol -  * operator"
   ]
  },
  {
   "cell_type": "markdown",
   "metadata": {},
   "source": [
    "### Q39. What is the output of the code? \n",
    " \n",
    "1. numbers = [1, 3, 6] 2. newNumbers = tuple(map(lambda x: x , numbers)) 3. print(newNumbers) \n",
    "\n",
    ">sol - (1, 3, 6)"
   ]
  },
  {
   "cell_type": "markdown",
   "metadata": {},
   "source": [
    "### Q40. What is the output of the code? \n",
    " \n",
    "1. if None: 2.     print(“Hello”) \n",
    "    \n",
    ">sol - Nothing will be printed "
   ]
  },
  {
   "cell_type": "markdown",
   "metadata": {},
   "source": [
    "### Q41. The if-elif-else executes only one block of code among several blocks\n",
    "\n",
    ">sol - true"
   ]
  },
  {
   "cell_type": "markdown",
   "metadata": {},
   "source": [
    "### Q42. What is the output of the code? \n",
    " \n",
    "1. for i in [1, 0]: 2.   print(i+1)\n",
    "\n",
    ">sol - a) 2    1 "
   ]
  },
  {
   "cell_type": "markdown",
   "metadata": {},
   "source": [
    "### Q43. In the Python, for and while loop can have the optional else   statement?\n",
    "\n",
    ">sol - Both loops can have optional else statement"
   ]
  },
  {
   "cell_type": "markdown",
   "metadata": {},
   "source": [
    "### Q44. What is the output of the code? \n",
    " \n",
    "1. i = sum = 0 2. \n",
    " 3. while i <= 4: 4.     sum += i 5.     i = i+1 6. \n",
    " 7. print(sum) \n",
    " \n",
    ">sol - 10"
   ]
  },
  {
   "cell_type": "markdown",
   "metadata": {},
   "source": [
    "### Q45. What is the output of the code? \n",
    " \n",
    "1. while 4 == 4: 2.     print('4') \n",
    "    \n",
    ">sol - 4 is printed infinitely until the program closes "
   ]
  },
  {
   "cell_type": "markdown",
   "metadata": {},
   "source": [
    "### Q46. Is it better to use the for loop instead of while if we are iterating   through a sequence?\n",
    "\n",
    ">sol - Yes, for loop is more pythonic choice. "
   ]
  },
  {
   "cell_type": "markdown",
   "metadata": {},
   "source": [
    "### Q47. Which of the following statement is true?\n",
    "\n",
    ">sol - option d) All of the above. "
   ]
  },
  {
   "cell_type": "markdown",
   "metadata": {},
   "source": [
    "### Q48. What is the output of the code? \n",
    "for char in 'PYTHON STRING': 2.   if char == ' ': 3.       break 4.  \n",
    "\n",
    " \n",
    "P a g e 16 | 37 \n",
    " \n",
    "5.   print(char, end='') 6.    7.   if char == 'O': 8.       continue \n",
    "\n",
    ">sol - PYTHON"
   ]
  },
  {
   "cell_type": "markdown",
   "metadata": {},
   "source": [
    "### Q49. Which of the statement is true about the “pass”   statement?\n",
    "\n",
    ">sol - d) All of the above. "
   ]
  },
  {
   "cell_type": "markdown",
   "metadata": {},
   "source": [
    "### Q50. In regards to separated value files such as .csv and .tsv, what is   the delimiter? \n",
    "\n",
    ">sol - c) Any character such as the comma (,) or tab (\\t) that is used to separate the column data."
   ]
  },
  {
   "cell_type": "markdown",
   "metadata": {},
   "source": [
    "###  Q51. In separated value files such as .csv and .tsv, what does the first   row in the file typically contain?\n",
    "\n",
    ">sol - The column names of the data."
   ]
  },
  {
   "cell_type": "markdown",
   "metadata": {},
   "source": [
    "### Q52. Assume you have a file object my_data, which has properly opened a separated value file that uses the tab character (\\t) as the delimiter.  What is the proper way to open the file using the Python CSV module and assign it to the variable csv_reader? \n",
    "\n",
    ">sol - csv.reader(my_data, delimiter='\\t') "
   ]
  },
  {
   "cell_type": "markdown",
   "metadata": {},
   "source": [
    "### Q53. When iterating over an object returned from csv.reader(), what is returned with each iteration?\n",
    "\n",
    ">sol - The row data as a list "
   ]
  },
  {
   "cell_type": "markdown",
   "metadata": {},
   "source": [
    "### Q54. When writing to a CSV file using the .writerow() method of  the csv.DictWriter object, what must each key in the  input dict represent? \n",
    "\n",
    ">sol - Each key must match up to the field names (column names) used to identify the column data"
   ]
  },
  {
   "cell_type": "markdown",
   "metadata": {},
   "source": [
    "### Q55. Which is the correct way to open the CSV file hrdata.csv for   reading using the pandas package? Assume that the pandas   package has already been imported. \n",
    "\n",
    ">sol -pandas.read_csv('hrdata.csv')"
   ]
  },
  {
   "cell_type": "markdown",
   "metadata": {},
   "source": [
    "### Q56. By default, pandas uses 0-based indices for indexing rows. Which  is the correct way to import the CSV file hrdata.csv  for reading and using the 'Name' column as the index row instead?\n",
    "\n",
    ">sol - pandas.read_csv('hrdata.csv', index_col='Name') "
   ]
  },
  {
   "cell_type": "markdown",
   "metadata": {},
   "source": [
    "### Q57. Given the file dog_breeds.txt, which of the following is the correct   way to open the file for reading as a text file? Select all that apply.\n",
    "\n",
    "> - b) open('dog_breeds.txt', 'r')\n",
    "> - c) open('dog_breeds.txt'\n",
    "         "
   ]
  },
  {
   "cell_type": "markdown",
   "metadata": {},
   "source": [
    "### Q59. Given the file jack_russell.png, which of the following is the correct   way to open the file for reading as a buffered binary file? Select   all that apply. \n",
    "> sol - open('jack_russell.png', 'rb') "
   ]
  },
  {
   "cell_type": "markdown",
   "metadata": {},
   "source": [
    "### Q61. Whenever possible, what is the recommended way to ensure that   a file object is properly closed after usage? \n",
    "\n",
    "> sol - By using the with statemen"
   ]
  },
  {
   "cell_type": "markdown",
   "metadata": {},
   "source": [
    "### Q63. When reading a file using the file object, what method is best for   reading the entire file into a single string? \n",
    "\n",
    "> sol - .read()"
   ]
  },
  {
   "cell_type": "markdown",
   "metadata": {},
   "source": [
    "### Q64.  The value 1.73 rounded to one decimal place using the “rounding   up” strategy is… \n",
    "\n",
    ">sol - 1.8"
   ]
  },
  {
   "cell_type": "markdown",
   "metadata": {},
   "source": [
    "### Q65. The value -2.961 rounded to two decimal places using the   “rounding down” strategy is\n",
    "\n",
    "> sol - a) -2.95"
   ]
  },
  {
   "cell_type": "markdown",
   "metadata": {},
   "source": [
    "### Q66. When a value is truncated to 3 decimal places, which of the   following is true? \n",
    "> sol - c) Both positive and negative numbers are rounded up. "
   ]
  },
  {
   "cell_type": "markdown",
   "metadata": {},
   "source": [
    "### Q67. The value -0.045 rounded to 2 decimal places using the “round half   away from zero” strategy is…\n",
    "\n",
    ">sol -  -0.05 "
   ]
  },
  {
   "cell_type": "markdown",
   "metadata": {},
   "source": [
    "### Q68. Which rounding strategy does Python’s built-in round() function   use? \n",
    "\n",
    ">sol - Round half away from zero"
   ]
  },
  {
   "cell_type": "markdown",
   "metadata": {},
   "source": [
    "### Q69. The value 4.65 rounded to one decimal place using the “round half   to even” strategy is\n",
    "\n",
    "> sol - 4.6 "
   ]
  },
  {
   "cell_type": "markdown",
   "metadata": {},
   "source": [
    "### Q70. Which problem arises due to the multiple inheritances, if   hierarchical inheritance is used previously for its base classes? \n",
    "\n",
    "> sol - Diamond "
   ]
  },
  {
   "cell_type": "markdown",
   "metadata": {},
   "source": [
    "### Q71.  How many classes should a program contain to implement the  multiple inheritances? \n",
    "\n",
    "> sol -At least 1"
   ]
  },
  {
   "cell_type": "markdown",
   "metadata": {},
   "source": [
    "### Q72. If class a inherits class b and class c as “class a: public class b,  public class c {// class body ;}; ”, which class constructor will be  called first? \n",
    "\n",
    "> sol-  Class b. "
   ]
  },
  {
   "cell_type": "markdown",
   "metadata": {},
   "source": [
    "### Q73.If all the members of all  base classes are private then\n",
    "\n",
    "> sol - Derived class can still access them in the multiple inheritance "
   ]
  },
  {
   "cell_type": "markdown",
   "metadata": {},
   "source": [
    "### Q74. Can the derived class be made abstract if multiple inheritance is  used?\n",
    "\n",
    "> sol- No, because other classes must be abstract too "
   ]
  },
  {
   "cell_type": "markdown",
   "metadata": {},
   "source": [
    "### Q75. Which among the following best defines the multilevel inheritance?\n",
    "\n",
    "> sol -Classes being derived from other derived classes "
   ]
  },
  {
   "cell_type": "markdown",
   "metadata": {},
   "source": [
    "###  Q76. If there are 5 classes, E is derived from D, D from C, C from B and  B from A. Which class constructor will be called first if the object of  E or D is created?\n",
    "\n",
    "> SOL -A"
   ]
  },
  {
   "cell_type": "markdown",
   "metadata": {},
   "source": [
    "### Q77. Which Class is having the highest degree of abstraction in   multilevel inheritance of 5 levels\n",
    "\n",
    "> sol - All with same abstraction"
   ]
  },
  {
   "cell_type": "markdown",
   "metadata": {},
   "source": [
    "### Q78. Multilevel inheritance allows _________________ in the program. \n",
    "\n",
    "> sol -As many levels of inheritance as required"
   ]
  },
  {
   "cell_type": "markdown",
   "metadata": {},
   "source": [
    "### Q79. If all the classes used parameterized constructors and no default  constructor then, ___________\n",
    "\n",
    ">sol- Object of lower-level classes must call parent class constructors explicitly "
   ]
  },
  {
   "cell_type": "markdown",
   "metadata": {},
   "source": [
    "### Q80. Which is the universal exception handler class?\n",
    "\n",
    ">sol -Errors "
   ]
  },
  {
   "cell_type": "markdown",
   "metadata": {},
   "source": [
    "### Q81. What are two exception classes in the hierarchy of java exceptions  class?\n",
    "\n",
    ">sol - Runtime exceptions and other exceptions"
   ]
  },
  {
   "cell_type": "markdown",
   "metadata": {},
   "source": [
    "### Q82.  Which are the two blocks that are used to check error and handle  the error?\n",
    "\n",
    ">sol - Try and catch "
   ]
  },
  {
   "cell_type": "markdown",
   "metadata": {},
   "source": [
    "### Q83. To catch the exceptions ___________________ \n",
    "\n",
    ">sol -  An object must be created to catch the exception"
   ]
  },
  {
   "cell_type": "markdown",
   "metadata": {},
   "source": [
    "### Q84. Which class is used to handle the input and output exceptions? \n",
    "\n",
    ">sol - IOExceptions "
   ]
  },
  {
   "cell_type": "markdown",
   "metadata": {},
   "source": [
    "### Q85. Which among the following is true for the class exceptions? \n",
    "\n",
    ">sol - Either base or derived class may produce exceptions"
   ]
  },
  {
   "cell_type": "markdown",
   "metadata": {},
   "source": [
    "### Q86. If both base and derived class caught the exceptions, _____. \n",
    "\n",
    ">sol - Then catch block of the base class must be defined before the derived class "
   ]
  },
  {
   "cell_type": "markdown",
   "metadata": {},
   "source": [
    "### Q87.  The catching of base class the exception _________ in java\n",
    "\n",
    ">sol - Before derived class is allowed "
   ]
  },
  {
   "cell_type": "markdown",
   "metadata": {},
   "source": [
    "### Q88.  Which of the following handles the undefined class in the  program?\n",
    "\n",
    ">sol - ClassNotFoundException "
   ]
  },
  {
   "cell_type": "markdown",
   "metadata": {},
   "source": [
    "### Q89. Which among the following is true? \n",
    "\n",
    "> sol -Both the base and derived class catch the blocks are important."
   ]
  },
  {
   "cell_type": "markdown",
   "metadata": {},
   "source": [
    "### Q90. Which condition among the following might result in memory  exception?\n",
    "\n",
    "> sol - Infinite loops"
   ]
  },
  {
   "cell_type": "markdown",
   "metadata": {},
   "source": [
    "### Q91. Which among the following is the correct definition for static   member functions? \n",
    "\n",
    "> sol - Functions made to maintain a single copy of member functions for all the objects "
   ]
  },
  {
   "cell_type": "markdown",
   "metadata": {},
   "source": [
    "### Q92. The static member functions __________________ \n",
    "\n",
    "> sol - Having access to only the static members of a class."
   ]
  },
  {
   "cell_type": "markdown",
   "metadata": {},
   "source": [
    "### Q93. Which is the correct syntax to access the static member functions   with a class name?\n",
    "\n",
    "> sol - className . functionName;"
   ]
  },
  {
   "cell_type": "markdown",
   "metadata": {},
   "source": [
    "### Q94. The static members are ______________________ \n",
    "\n",
    "> sol - Created and initialised, only once "
   ]
  },
  {
   "cell_type": "markdown",
   "metadata": {},
   "source": [
    "### Q95. Which among the following is true? \n",
    "\n",
    "> sol - Static member functions can’t be overloaded"
   ]
  },
  {
   "cell_type": "markdown",
   "metadata": {},
   "source": [
    "### Q96. The static member functions _______________ \n",
    "\n",
    "> sol - Can’t be declared const, volatile, or constant volatile. "
   ]
  },
  {
   "cell_type": "markdown",
   "metadata": {},
   "source": [
    "### Q97. Which among the following can’t be used to access the members in anyway? \n",
    "\n",
    "> sol - Single colon"
   ]
  },
  {
   "cell_type": "markdown",
   "metadata": {},
   "source": [
    "### Q98. If static data member are made inline, ______________\n",
    "\n",
    "> sol - Those can be initialised within the class. \n"
   ]
  },
  {
   "cell_type": "markdown",
   "metadata": {},
   "source": [
    "### Q99. The static data member _________________ \n",
    "\n",
    "> sol - It can be mutable.\n"
   ]
  },
  {
   "cell_type": "markdown",
   "metadata": {},
   "source": [
    "### Q100. We can use the static member functions and static data member __________________.\n",
    "\n",
    "> sol - Even if a class object is not created "
   ]
  },
  {
   "cell_type": "markdown",
   "metadata": {},
   "source": [
    "### Q101. Point out the wrong statement: \n",
    "> sol -  rPy provides lots of scientific routines that work on top of NumPy. "
   ]
  },
  {
   "cell_type": "markdown",
   "metadata": {},
   "source": [
    "### Q102.  The ________ function returns its argument with the modified      shape, whereas the ________ method modifies the array itself. \n",
    "\n",
    "> sol -a) reshape, resize."
   ]
  },
  {
   "cell_type": "markdown",
   "metadata": {},
   "source": [
    "### Q103. To create sequences of the numbers, NumPy provides a function __________ analogous to range that returns arrays instead of lists\n",
    "\n",
    "> sol - arrange"
   ]
  },
  {
   "cell_type": "markdown",
   "metadata": {},
   "source": [
    "### Q104.  Point out the correct statement:\n",
    "\n",
    "> sol - All of the Mentioned "
   ]
  },
  {
   "cell_type": "markdown",
   "metadata": {},
   "source": [
    "### Q105. Which of the following function stack 1D array as the   columns into the 2D array? \n",
    "\n",
    "> sol -column_stack."
   ]
  },
  {
   "cell_type": "markdown",
   "metadata": {},
   "source": [
    "### Q106.  ndarray is also known as an alias array. \n",
    "\n",
    "> sol - True"
   ]
  },
  {
   "cell_type": "markdown",
   "metadata": {},
   "source": [
    "### Q107. Which of the following method creates the new array object that  looks at the same data? \n",
    "\n",
    "> sol - view"
   ]
  },
  {
   "cell_type": "markdown",
   "metadata": {},
   "source": [
    "### Q108. Which of the functions can be used to combine the   different vectors to obtain the result for each n-uplet? \n",
    "\n",
    "> sol -  ix_"
   ]
  },
  {
   "cell_type": "markdown",
   "metadata": {},
   "source": [
    "### Q109. ndarray.dataitemSize is the buffer containing actual   elements  of an array. \n",
    "\n",
    "> sol - True"
   ]
  },
  {
   "cell_type": "markdown",
   "metadata": {},
   "source": [
    "### Q110. Which of the following is in the NumPy library?\n",
    "\n",
    "> sol - all of the mentioned "
   ]
  },
  {
   "cell_type": "markdown",
   "metadata": {},
   "source": [
    "### Q111. Which of the following sets the size of the buffer used in ufuncs ? \n",
    "\n",
    "> sol - setbufsize(size)"
   ]
  },
  {
   "cell_type": "markdown",
   "metadata": {},
   "source": [
    "### Q112. Point out the wrong statement: \n",
    "\n",
    "> sol -  In Numpy, universal functions are instances of the numpy.ufunction class"
   ]
  },
  {
   "cell_type": "markdown",
   "metadata": {},
   "source": [
    "### Q113. Which of the following attribute should be used while checking the  type combination input and output?\n",
    "\n",
    "> sol - .types"
   ]
  },
  {
   "cell_type": "markdown",
   "metadata": {},
   "source": [
    "### Q114. Which of the following returns an array of “ones” with the same  shape and type as a given array? \n",
    "\n",
    "> sol - ones_like"
   ]
  },
  {
   "cell_type": "markdown",
   "metadata": {},
   "source": [
    "### Q115. Point out the wrong statement:\n",
    "\n",
    "> sol - The output of the ufunc is necessarily an ndarray, if all input arguments are ndarrays"
   ]
  },
  {
   "cell_type": "markdown",
   "metadata": {},
   "source": [
    "### Q116. Which of the following set of a floating-point error callback   function or a log object? \n",
    "\n",
    "> sol -  settercall"
   ]
  },
  {
   "cell_type": "markdown",
   "metadata": {},
   "source": [
    "### Q117. Some ufuncs can take output arguments. \n",
    "\n",
    "> sol - False"
   ]
  },
  {
   "cell_type": "markdown",
   "metadata": {},
   "source": [
    "### Q118. ___________ decompose the elements of x into the   mantissa and the two’s exponent. \n",
    "\n",
    "> sol - frexp"
   ]
  },
  {
   "cell_type": "markdown",
   "metadata": {},
   "source": [
    "### Q119. Which of the following function take the only a single value as input? \n",
    "\n",
    "> sol -iscomplex"
   ]
  },
  {
   "cell_type": "markdown",
   "metadata": {},
   "source": [
    "### Q120. The array object returned by the _array_prepare_ is passed to      ufunc for computation. \n",
    "\n",
    "> sol - True"
   ]
  },
  {
   "cell_type": "markdown",
   "metadata": {},
   "source": [
    "### Q121. All pandas data structures are ___mutable but not always  _______-mutable.\n",
    "\n",
    "> sol - value, size"
   ]
  },
  {
   "cell_type": "markdown",
   "metadata": {},
   "source": [
    "### Q122.  Point out the correct statement: \n",
    "\n",
    "> sol - All of the mentioned"
   ]
  },
  {
   "cell_type": "markdown",
   "metadata": {},
   "source": [
    "### Q123. Which of the following statement will import the pandas?\n",
    "\n",
    "> sol - import pandas as pd"
   ]
  },
  {
   "cell_type": "markdown",
   "metadata": {},
   "source": [
    "### Q124. Which of the following object did we get after reading the CSV file?\n",
    "\n",
    "> sol - DataFrame"
   ]
  },
  {
   "cell_type": "markdown",
   "metadata": {},
   "source": [
    "### Q125. Point out the wrong statement: \n",
    "\n",
    "> sol - Panel is generally 2D labeled, also size-mutable array"
   ]
  },
  {
   "cell_type": "markdown",
   "metadata": {},
   "source": [
    "### Q126. Which of the following library is similar to the pandas? \n",
    "\n",
    "> sol - NumPy"
   ]
  },
  {
   "cell_type": "markdown",
   "metadata": {},
   "source": [
    "### Q127. Panel is a container for the Series, and DataFrame is a   container for DataFrame objects.\n",
    "\n",
    "> sol - False  - \n",
    "DataFrame is a container for Series, and panel is a container for dataFrame objects."
   ]
  },
  {
   "cell_type": "markdown",
   "metadata": {},
   "source": [
    "### Q128. Which of the following is the prominent python “statistics and  econometrics library”?\n",
    "\n",
    "> sol - Bokeh"
   ]
  },
  {
   "cell_type": "markdown",
   "metadata": {},
   "source": [
    "### Q129. Which of the following is the foundational exploratory visualisation  package for the R language in the pandas ecosystem? \n",
    "\n",
    "> sol -yhat"
   ]
  },
  {
   "cell_type": "markdown",
   "metadata": {},
   "source": [
    "### Q130. Pandas consist of static and the moving window linear and panel  regression.\n",
    "\n",
    "> sol - True"
   ]
  },
  {
   "cell_type": "markdown",
   "metadata": {},
   "source": [
    "### Q131. Quandl API for Python wraps the __ REST API to   returns the pandas DataFrames with time series indexes. \n",
    "\n",
    "> sol - Quandl"
   ]
  },
  {
   "cell_type": "markdown",
   "metadata": {},
   "source": [
    "### Q132. Point out the correct statement: \n",
    "\n",
    "> sol - Statsmodels provides powerful statistics, econometrics, analysis and modeling functionality that is out of panda’s scope"
   ]
  },
  {
   "cell_type": "markdown",
   "metadata": {},
   "source": [
    "### Q133.Which of the following library is used to retrieve and to acquire   statistical data and metadata disseminated in SDMX 2.1\n",
    "\n",
    "> sol - pandaSDMX"
   ]
  },
  {
   "cell_type": "markdown",
   "metadata": {},
   "source": [
    "### Q134. Which of the following provides the standard API for doing   computations with MongoDB? \n",
    "\n",
    "> sol - Blaze"
   ]
  },
  {
   "cell_type": "markdown",
   "metadata": {},
   "source": [
    "### Q135. Point out the wrong statement: \n",
    "\n",
    "> sol - Spyder is a cross-platform Qt-based open-source R IDE"
   ]
  },
  {
   "cell_type": "markdown",
   "metadata": {},
   "source": [
    "### Q136. Which of the following makes use of the pandas and returns   data in a Series or DataFrame?\n",
    "\n",
    "> sol - freedapi"
   ]
  },
  {
   "cell_type": "markdown",
   "metadata": {},
   "source": [
    "### Q137. Spyder can introspect and display Pandas DataFrames. \n",
    "\n",
    "> sol - False"
   ]
  },
  {
   "cell_type": "markdown",
   "metadata": {},
   "source": [
    "### Q138. Which of the following is used for machine learning in the python?\n",
    "\n",
    "> sol - scikit-learn"
   ]
  },
  {
   "cell_type": "markdown",
   "metadata": {},
   "source": [
    "### Q139. The ________ project builds on top of the pandas and matplotlib   to provide easy plotting of data. \n",
    "\n",
    "> sol - Seaborn"
   ]
  },
  {
   "cell_type": "markdown",
   "metadata": {},
   "source": [
    "### Q140 x-ray brings the labelled data power of pandas to the physical  sciences. \n",
    "\n",
    "> sol - True"
   ]
  },
  {
   "cell_type": "markdown",
   "metadata": {},
   "source": [
    "### Q141. Which of the following is the base layer of all of the sparse   has it indexed data structures? \n",
    "\n",
    "> sol - SparseArray"
   ]
  },
  {
   "cell_type": "markdown",
   "metadata": {},
   "source": [
    "### Q142.  Point out the correct statement. \n",
    "\n",
    "> sol - All of the mentioned"
   ]
  },
  {
   "cell_type": "markdown",
   "metadata": {},
   "source": [
    "### Q143. Which of the following is not an indexed object? \n",
    "\n",
    "> sol -None of the mentioned"
   ]
  },
  {
   "cell_type": "markdown",
   "metadata": {},
   "source": [
    "### Q144. Which of the following list like data structure is used for managing  the dynamic collection of SparseArrays? \n",
    "\n",
    "> sol - SparseList"
   ]
  },
  {
   "cell_type": "markdown",
   "metadata": {},
   "source": [
    "### Q145.  Point out the wrong statement.\n",
    "\n",
    "> sol - to_array. append can accept scalar values or any 2-dimensional sequence"
   ]
  },
  {
   "cell_type": "markdown",
   "metadata": {},
   "source": [
    "### Q146. Which of the following method used for transforming the   Sparse-series index by the MultiIndex to a   scipy.sparse.coo_matrix\n",
    "\n",
    "> sol -SparseSeries.to_coo()"
   ]
  },
  {
   "cell_type": "markdown",
   "metadata": {},
   "source": [
    "### Q147. The integer format tracks only the locations and the sizes of   blocks of data\n",
    "\n",
    "> sol - False"
   ]
  },
  {
   "cell_type": "markdown",
   "metadata": {},
   "source": [
    "### Q148. Which of the following is used for the testing for membership in   the list of column names?\n",
    "\n",
    "> sol -in"
   ]
  },
  {
   "cell_type": "markdown",
   "metadata": {},
   "source": [
    "### Q149. Which of the following indexing capabilities is used as the concise  means of selecting data from a pandas object?\n",
    "\n",
    " > sol - ix"
   ]
  },
  {
   "cell_type": "markdown",
   "metadata": {},
   "source": [
    "### Q150. Pandas follow the NumPy convention of raising an error when  you try to convert something to a bool. \n",
    "\n",
    "> sol - True"
   ]
  },
  {
   "cell_type": "markdown",
   "metadata": {},
   "source": [
    "------------------------------------------------------------------------------------------------------------------------"
   ]
  }
 ],
 "metadata": {
  "kernelspec": {
   "display_name": "Python 3",
   "language": "python",
   "name": "python3"
  },
  "language_info": {
   "codemirror_mode": {
    "name": "ipython",
    "version": 3
   },
   "file_extension": ".py",
   "mimetype": "text/x-python",
   "name": "python",
   "nbconvert_exporter": "python",
   "pygments_lexer": "ipython3",
   "version": "3.7.4"
  }
 },
 "nbformat": 4,
 "nbformat_minor": 2
}
